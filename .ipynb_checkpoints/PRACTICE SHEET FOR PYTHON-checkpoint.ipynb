{
 "cells": [
  {
   "cell_type": "markdown",
   "id": "70e9f475",
   "metadata": {},
   "source": [
    "# PRACTICE SHEET FOR PYTHON"
   ]
  },
  {
   "cell_type": "markdown",
   "id": "43a08fef",
   "metadata": {},
   "source": [
    "1. A company decided to give bonus of 5% to employee if his/her year of service is\n",
    "more than 5 years. Ask user for their salary and year of service and print the net\n",
    "bonus amount."
   ]
  },
  {
   "cell_type": "code",
   "execution_count": 1,
   "id": "12d53cc3",
   "metadata": {},
   "outputs": [
    {
     "name": "stdout",
     "output_type": "stream",
     "text": [
      "Enter your Salary100000\n",
      "Enter year: 7\n",
      "5000.0\n"
     ]
    }
   ],
   "source": [
    "salary = int(input(\"Enter your Salary\"))\n",
    "year = int(input(\"Enter year: \"))\n",
    "if year > 5:\n",
    "    bonus = (salary * 5)/100\n",
    "    print(bonus)\n",
    "else:\n",
    "    print(\"You are not eligible for this\")\n"
   ]
  },
  {
   "cell_type": "markdown",
   "id": "4bec0d87",
   "metadata": {},
   "source": [
    "2. A school has following rules for grading system:\n",
    "a. Below 25 - F\n",
    "b. 25 to 45 - E\n",
    "c. 45 to 50 - D\n",
    "d. 50 to 60 - C\n",
    "e. 60 to 80 - B\n",
    "f. Above 80 - A\n",
    "Ask user to enter marks and print the corresponding grade."
   ]
  },
  {
   "cell_type": "code",
   "execution_count": 2,
   "id": "5c1833da",
   "metadata": {},
   "outputs": [
    {
     "name": "stdout",
     "output_type": "stream",
     "text": [
      "Enter ypur mark: 45\n",
      "D\n"
     ]
    }
   ],
   "source": [
    "mark = int(input(\"Enter ypur mark: \"))\n",
    "if mark < 25:\n",
    "    print(\"F\")\n",
    "elif mark < 45:\n",
    "    print(\"E\")\n",
    "elif mark < 50:\n",
    "    print(\"D\")\n",
    "elif mark < 60:\n",
    "    print(\"C\")\n",
    "elif mark < 80:\n",
    "    print(\"B\")\n",
    "else:\n",
    "    print(\"A\")\n"
   ]
  },
  {
   "cell_type": "markdown",
   "id": "f2cd36b4",
   "metadata": {},
   "source": [
    "3. A student will not be allowed to sit in exam if his/her attendence is less than 75%.\n",
    "Take following input from user\n",
    "Number of classes held\n",
    "Number of classes attended.\n",
    "And print\n",
    "percentage of class attended\n",
    "Is student is allowed to sit in exam or not."
   ]
  },
  {
   "cell_type": "code",
   "execution_count": 3,
   "id": "38a68083",
   "metadata": {},
   "outputs": [
    {
     "name": "stdout",
     "output_type": "stream",
     "text": [
      "Enter number of classes held50\n",
      "Enter number of classes attended49\n",
      "98.0%\n",
      "you are allowed to sit in exam\n"
     ]
    }
   ],
   "source": [
    "classes_held = int(input(\"Enter number of classes held\"))\n",
    "classes_attend = int(input(\"Enter number of classes attended\"))\n",
    "percentage = (classes_attend/classes_held)*100\n",
    "print(f\"{percentage}%\")\n",
    "if percentage > 75:\n",
    "    print(\"you are allowed to sit in exam\")\n",
    "else:\n",
    "    print(\"you are not allowed to sit in exam\")"
   ]
  },
  {
   "cell_type": "markdown",
   "id": "1235c35e",
   "metadata": {},
   "source": [
    "4. Ask user to enter age, sex ( M or F ), marital status ( Y or N ) and then using\n",
    "following rules print their place of service.\n",
    "if employee is female, then she will work only in urban areas.\n",
    "if employee is a male and age is in between 20 to 40 then he may work in anywhere\n",
    "if employee is male and age is in between 40 t0 60 then he will work in urban areas\n",
    "only."
   ]
  },
  {
   "cell_type": "code",
   "execution_count": 6,
   "id": "fa573f48",
   "metadata": {},
   "outputs": [
    {
     "name": "stdout",
     "output_type": "stream",
     "text": [
      "Enter your age: 23\n",
      "Enter your sex: M\n",
      "Enter your marital status: N\n",
      "You may work in anywhere.\n"
     ]
    }
   ],
   "source": [
    "age = int(input(\"Enter your age: \"))\n",
    "sex = input(\"Enter your sex: \")\n",
    "marital_status = input(\"Enter your marital status: \")\n",
    "if (sex == 'F'):\n",
    "    print(\"You will work only in urban areas.\")\n",
    "elif ((sex == 'M') and ((age > 20) and (age < 40))):\n",
    "    print(\"You may work in anywhere.\")\n",
    "elif ((sex == 'M') and ((age > 40) and (age < 60))):\n",
    "    print(\"you will work in urban areas only.\")"
   ]
  },
  {
   "cell_type": "markdown",
   "id": "552eb7e0",
   "metadata": {},
   "source": [
    "5. Take 10 integers from keyboard using loop and print their average value on the\n",
    "screen."
   ]
  },
  {
   "cell_type": "code",
   "execution_count": 8,
   "id": "e36cfa2b",
   "metadata": {},
   "outputs": [
    {
     "name": "stdout",
     "output_type": "stream",
     "text": [
      "Enter Number: 1\n",
      "Enter Number: 2\n",
      "Enter Number: 3\n",
      "Enter Number: 4\n",
      "Enter Number: 5\n",
      "Enter Number: 6\n",
      "Enter Number: 7\n",
      "Enter Number: 8\n",
      "Enter Number: 9\n",
      "Enter Number: 10\n",
      "5.5\n"
     ]
    }
   ],
   "source": [
    "total = 0\n",
    "for i in range(10):\n",
    "    s = int(input(\"Enter Number: \"))\n",
    "    total += s\n",
    "print(total/10)"
   ]
  },
  {
   "cell_type": "markdown",
   "id": "d3f5315f",
   "metadata": {},
   "source": [
    "6. Write a program to calculate factorial of a number."
   ]
  },
  {
   "cell_type": "code",
   "execution_count": 9,
   "id": "1d89199e",
   "metadata": {},
   "outputs": [
    {
     "name": "stdout",
     "output_type": "stream",
     "text": [
      "6\n"
     ]
    }
   ],
   "source": [
    "def fact(num):\n",
    "    if num < 1:\n",
    "        return 1\n",
    "    else:\n",
    "        return num*fact(num-1)\n",
    "print(fact(3))"
   ]
  },
  {
   "cell_type": "code",
   "execution_count": 11,
   "id": "b9d99310",
   "metadata": {},
   "outputs": [
    {
     "name": "stdout",
     "output_type": "stream",
     "text": [
      "Enter the Number: 3\n",
      "6\n"
     ]
    }
   ],
   "source": [
    "num = int(input(\"Enter the Number: \"))\n",
    "fact = 1\n",
    "for i in range(1,num+1):\n",
    "    fact = fact*i\n",
    "print(fact)"
   ]
  },
  {
   "cell_type": "markdown",
   "id": "bd8e58a0",
   "metadata": {},
   "source": [
    "7. Take integer inputs from user until he/she presses q ( Ask to press q to quit after\n",
    "every integer input ). Print average and product of all numbers."
   ]
  },
  {
   "cell_type": "code",
   "execution_count": 15,
   "id": "95f95fc8",
   "metadata": {},
   "outputs": [
    {
     "name": "stdout",
     "output_type": "stream",
     "text": [
      "Enter an integer: 1\n",
      "press q to quit\n",
      "Enter an integer: 2\n",
      "press q to quit\n",
      "Enter an integer: q\n",
      "press q to quit\n",
      "average: 1.5\n",
      "product: 2\n"
     ]
    }
   ],
   "source": [
    "s = ''\n",
    "ave = 0\n",
    "pro = 1\n",
    "i = 0\n",
    "while (s != 'q'):\n",
    "    s = input(\"Enter an integer: \")\n",
    "    if s.isdecimal():\n",
    "        ave += int(s)\n",
    "        i += 1\n",
    "        pro *= int(s)\n",
    "    print(\"press q to quit\")\n",
    "print(f\"average: {ave/i}\\nproduct: {pro}\")\n",
    "    "
   ]
  },
  {
   "cell_type": "markdown",
   "id": "61b8c103",
   "metadata": {},
   "source": [
    "8. A three digit number is called Armstrong number if sum of cube of its digit is equal to\n",
    "number itself.E.g.- 153 is an Armstrong number because (1 3 )+(5 3 )+(3 3 ) = 153.\n",
    "Write all Armstrong numbers between 100 to 500."
   ]
  },
  {
   "cell_type": "code",
   "execution_count": 17,
   "id": "2afc14cf",
   "metadata": {},
   "outputs": [
    {
     "name": "stdout",
     "output_type": "stream",
     "text": [
      "153\n",
      "370\n",
      "371\n",
      "407\n"
     ]
    }
   ],
   "source": [
    "def is_arm(num):\n",
    "    temp = num\n",
    "    s = 0\n",
    "    while temp > 0:\n",
    "        dig = temp % 10\n",
    "        s += (dig**3)\n",
    "        temp = temp//10\n",
    "    if (s == num):\n",
    "        return True\n",
    "    else:\n",
    "        return False\n",
    "for i in range(100,501):\n",
    "    if is_arm(i):\n",
    "        print(i)\n"
   ]
  },
  {
   "cell_type": "markdown",
   "id": "86be859e",
   "metadata": {},
   "source": [
    "9. Write a program to find the length of the string \"refrigerator\" without\n",
    "using len function."
   ]
  },
  {
   "cell_type": "code",
   "execution_count": 19,
   "id": "20663ed6",
   "metadata": {},
   "outputs": [
    {
     "name": "stdout",
     "output_type": "stream",
     "text": [
      "12\n"
     ]
    }
   ],
   "source": [
    "name = \"refrigerator\"\n",
    "length = 0\n",
    "for i in name:\n",
    "    length += 1\n",
    "print(length)"
   ]
  },
  {
   "cell_type": "markdown",
   "id": "27c3ac69",
   "metadata": {},
   "source": [
    "10. Write a program that takes your full name as input and displays the abbreviations of\n",
    "the first and middle names except the last name which is displayed as it is. For\n",
    "example, if your name is Robert Brett Roser, then the output should be R.B.Roser."
   ]
  },
  {
   "cell_type": "code",
   "execution_count": 21,
   "id": "78dcdbe3",
   "metadata": {},
   "outputs": [
    {
     "name": "stdout",
     "output_type": "stream",
     "text": [
      "Enter your name: Robert Brett Roser\n",
      "R.B.Roser\n"
     ]
    }
   ],
   "source": [
    "name = input(\"Enter your name: \")\n",
    "s = name.split()\n",
    "print(f\"{s[0][0]}.{s[1][0]}.{s[2]}\")"
   ]
  },
  {
   "cell_type": "code",
   "execution_count": null,
   "id": "8046f0b0",
   "metadata": {},
   "outputs": [],
   "source": []
  }
 ],
 "metadata": {
  "kernelspec": {
   "display_name": "Python 3 (ipykernel)",
   "language": "python",
   "name": "python3"
  },
  "language_info": {
   "codemirror_mode": {
    "name": "ipython",
    "version": 3
   },
   "file_extension": ".py",
   "mimetype": "text/x-python",
   "name": "python",
   "nbconvert_exporter": "python",
   "pygments_lexer": "ipython3",
   "version": "3.8.8"
  }
 },
 "nbformat": 4,
 "nbformat_minor": 5
}
